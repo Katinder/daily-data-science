{
  "cells": [
    {
      "cell_type": "markdown",
      "metadata": {
        "id": "8Q96BZDWzu9v"
      },
      "source": [
        "# Fine-tuning a model with the Trainer API or Keras"
      ]
    },
    {
      "cell_type": "markdown",
      "metadata": {
        "id": "I3-wlph5zu9y"
      },
      "source": [
        "Install the Transformers, Datasets, and Evaluate libraries to run this notebook."
      ]
    },
    {
      "cell_type": "code",
      "execution_count": 1,
      "metadata": {
        "id": "aVygooUMzu9z",
        "outputId": "708bd75c-d9e5-4317-cd3f-946d2bd14ecd",
        "colab": {
          "base_uri": "https://localhost:8080/"
        }
      },
      "outputs": [
        {
          "output_type": "stream",
          "name": "stdout",
          "text": [
            "Collecting datasets\n",
            "  Downloading datasets-2.16.1-py3-none-any.whl (507 kB)\n",
            "\u001b[2K     \u001b[90m━━━━━━━━━━━━━━━━━━━━━━━━━━━━━━━━━━━━━━━━\u001b[0m \u001b[32m507.1/507.1 kB\u001b[0m \u001b[31m3.2 MB/s\u001b[0m eta \u001b[36m0:00:00\u001b[0m\n",
            "\u001b[?25hCollecting evaluate\n",
            "  Downloading evaluate-0.4.1-py3-none-any.whl (84 kB)\n",
            "\u001b[2K     \u001b[90m━━━━━━━━━━━━━━━━━━━━━━━━━━━━━━━━━━━━━━━━\u001b[0m \u001b[32m84.1/84.1 kB\u001b[0m \u001b[31m7.8 MB/s\u001b[0m eta \u001b[36m0:00:00\u001b[0m\n",
            "\u001b[?25hRequirement already satisfied: transformers[sentencepiece] in /usr/local/lib/python3.10/dist-packages (4.35.2)\n",
            "Requirement already satisfied: filelock in /usr/local/lib/python3.10/dist-packages (from datasets) (3.13.1)\n",
            "Requirement already satisfied: numpy>=1.17 in /usr/local/lib/python3.10/dist-packages (from datasets) (1.23.5)\n",
            "Requirement already satisfied: pyarrow>=8.0.0 in /usr/local/lib/python3.10/dist-packages (from datasets) (10.0.1)\n",
            "Requirement already satisfied: pyarrow-hotfix in /usr/local/lib/python3.10/dist-packages (from datasets) (0.6)\n",
            "Collecting dill<0.3.8,>=0.3.0 (from datasets)\n",
            "  Downloading dill-0.3.7-py3-none-any.whl (115 kB)\n",
            "\u001b[2K     \u001b[90m━━━━━━━━━━━━━━━━━━━━━━━━━━━━━━━━━━━━━━━━\u001b[0m \u001b[32m115.3/115.3 kB\u001b[0m \u001b[31m8.3 MB/s\u001b[0m eta \u001b[36m0:00:00\u001b[0m\n",
            "\u001b[?25hRequirement already satisfied: pandas in /usr/local/lib/python3.10/dist-packages (from datasets) (1.5.3)\n",
            "Requirement already satisfied: requests>=2.19.0 in /usr/local/lib/python3.10/dist-packages (from datasets) (2.31.0)\n",
            "Requirement already satisfied: tqdm>=4.62.1 in /usr/local/lib/python3.10/dist-packages (from datasets) (4.66.1)\n",
            "Requirement already satisfied: xxhash in /usr/local/lib/python3.10/dist-packages (from datasets) (3.4.1)\n",
            "Collecting multiprocess (from datasets)\n",
            "  Downloading multiprocess-0.70.15-py310-none-any.whl (134 kB)\n",
            "\u001b[2K     \u001b[90m━━━━━━━━━━━━━━━━━━━━━━━━━━━━━━━━━━━━━━━━\u001b[0m \u001b[32m134.8/134.8 kB\u001b[0m \u001b[31m11.5 MB/s\u001b[0m eta \u001b[36m0:00:00\u001b[0m\n",
            "\u001b[?25hRequirement already satisfied: fsspec[http]<=2023.10.0,>=2023.1.0 in /usr/local/lib/python3.10/dist-packages (from datasets) (2023.6.0)\n",
            "Requirement already satisfied: aiohttp in /usr/local/lib/python3.10/dist-packages (from datasets) (3.9.1)\n",
            "Requirement already satisfied: huggingface-hub>=0.19.4 in /usr/local/lib/python3.10/dist-packages (from datasets) (0.20.2)\n",
            "Requirement already satisfied: packaging in /usr/local/lib/python3.10/dist-packages (from datasets) (23.2)\n",
            "Requirement already satisfied: pyyaml>=5.1 in /usr/local/lib/python3.10/dist-packages (from datasets) (6.0.1)\n",
            "Collecting responses<0.19 (from evaluate)\n",
            "  Downloading responses-0.18.0-py3-none-any.whl (38 kB)\n",
            "Requirement already satisfied: regex!=2019.12.17 in /usr/local/lib/python3.10/dist-packages (from transformers[sentencepiece]) (2023.6.3)\n",
            "Requirement already satisfied: tokenizers<0.19,>=0.14 in /usr/local/lib/python3.10/dist-packages (from transformers[sentencepiece]) (0.15.0)\n",
            "Requirement already satisfied: safetensors>=0.3.1 in /usr/local/lib/python3.10/dist-packages (from transformers[sentencepiece]) (0.4.1)\n",
            "Collecting sentencepiece!=0.1.92,>=0.1.91 (from transformers[sentencepiece])\n",
            "  Downloading sentencepiece-0.1.99-cp310-cp310-manylinux_2_17_x86_64.manylinux2014_x86_64.whl (1.3 MB)\n",
            "\u001b[2K     \u001b[90m━━━━━━━━━━━━━━━━━━━━━━━━━━━━━━━━━━━━━━━━\u001b[0m \u001b[32m1.3/1.3 MB\u001b[0m \u001b[31m17.9 MB/s\u001b[0m eta \u001b[36m0:00:00\u001b[0m\n",
            "\u001b[?25hRequirement already satisfied: protobuf in /usr/local/lib/python3.10/dist-packages (from transformers[sentencepiece]) (3.20.3)\n",
            "Requirement already satisfied: attrs>=17.3.0 in /usr/local/lib/python3.10/dist-packages (from aiohttp->datasets) (23.2.0)\n",
            "Requirement already satisfied: multidict<7.0,>=4.5 in /usr/local/lib/python3.10/dist-packages (from aiohttp->datasets) (6.0.4)\n",
            "Requirement already satisfied: yarl<2.0,>=1.0 in /usr/local/lib/python3.10/dist-packages (from aiohttp->datasets) (1.9.4)\n",
            "Requirement already satisfied: frozenlist>=1.1.1 in /usr/local/lib/python3.10/dist-packages (from aiohttp->datasets) (1.4.1)\n",
            "Requirement already satisfied: aiosignal>=1.1.2 in /usr/local/lib/python3.10/dist-packages (from aiohttp->datasets) (1.3.1)\n",
            "Requirement already satisfied: async-timeout<5.0,>=4.0 in /usr/local/lib/python3.10/dist-packages (from aiohttp->datasets) (4.0.3)\n",
            "Requirement already satisfied: typing-extensions>=3.7.4.3 in /usr/local/lib/python3.10/dist-packages (from huggingface-hub>=0.19.4->datasets) (4.5.0)\n",
            "Requirement already satisfied: charset-normalizer<4,>=2 in /usr/local/lib/python3.10/dist-packages (from requests>=2.19.0->datasets) (3.3.2)\n",
            "Requirement already satisfied: idna<4,>=2.5 in /usr/local/lib/python3.10/dist-packages (from requests>=2.19.0->datasets) (3.6)\n",
            "Requirement already satisfied: urllib3<3,>=1.21.1 in /usr/local/lib/python3.10/dist-packages (from requests>=2.19.0->datasets) (2.0.7)\n",
            "Requirement already satisfied: certifi>=2017.4.17 in /usr/local/lib/python3.10/dist-packages (from requests>=2.19.0->datasets) (2023.11.17)\n",
            "Requirement already satisfied: python-dateutil>=2.8.1 in /usr/local/lib/python3.10/dist-packages (from pandas->datasets) (2.8.2)\n",
            "Requirement already satisfied: pytz>=2020.1 in /usr/local/lib/python3.10/dist-packages (from pandas->datasets) (2023.3.post1)\n",
            "Requirement already satisfied: six>=1.5 in /usr/local/lib/python3.10/dist-packages (from python-dateutil>=2.8.1->pandas->datasets) (1.16.0)\n",
            "Installing collected packages: sentencepiece, dill, responses, multiprocess, datasets, evaluate\n",
            "Successfully installed datasets-2.16.1 dill-0.3.7 evaluate-0.4.1 multiprocess-0.70.15 responses-0.18.0 sentencepiece-0.1.99\n"
          ]
        }
      ],
      "source": [
        "!pip install datasets evaluate transformers[sentencepiece]"
      ]
    },
    {
      "cell_type": "code",
      "execution_count": 1,
      "metadata": {
        "id": "EFlAiYHVzu90",
        "outputId": "c856ec53-bd14-4b58-a861-e34c6306fd43",
        "colab": {
          "base_uri": "https://localhost:8080/",
          "height": 173,
          "referenced_widgets": [
            "4b57b6552bf142529ea705c5424c6576",
            "2ae116fdaf6f4708bd60d517aed7bd60",
            "7a10cc0d28074176bb9343f8d7646a22",
            "9ce820af55e4411ba760126e2bed4c63",
            "172d673b65fb46b5b488385cacb5b703",
            "dffc29e5ad204961a2b9df0c4fe3915d",
            "7b535b48d3b04ec4bc166bc11a028374",
            "d8e2c210aab846bca9a4484190ff3f7c",
            "dd5e88a26fd7467cbeffb61e37c0b152",
            "d6211d4029324034b0aa8a358fbeedac",
            "9b828e6760ed41ad98209af4e9e6eba3"
          ]
        }
      },
      "outputs": [
        {
          "output_type": "stream",
          "name": "stderr",
          "text": [
            "/usr/local/lib/python3.10/dist-packages/huggingface_hub/utils/_token.py:88: UserWarning: \n",
            "The secret `HF_TOKEN` does not exist in your Colab secrets.\n",
            "To authenticate with the Hugging Face Hub, create a token in your settings tab (https://huggingface.co/settings/tokens), set it as secret in your Google Colab and restart your session.\n",
            "You will be able to reuse this secret in all of your notebooks.\n",
            "Please note that authentication is recommended but still optional to access public models or datasets.\n",
            "  warnings.warn(\n"
          ]
        },
        {
          "output_type": "display_data",
          "data": {
            "text/plain": [
              "Map:   0%|          | 0/408 [00:00<?, ? examples/s]"
            ],
            "application/vnd.jupyter.widget-view+json": {
              "version_major": 2,
              "version_minor": 0,
              "model_id": "4b57b6552bf142529ea705c5424c6576"
            }
          },
          "metadata": {}
        }
      ],
      "source": [
        "from datasets import load_dataset\n",
        "from transformers import AutoTokenizer, DataCollatorWithPadding\n",
        "\n",
        "raw_datasets = load_dataset(\"glue\", \"mrpc\") # mrpc is one of the 10 glue benchmarl datasets\n",
        "checkpoint = \"bert-base-uncased\"\n",
        "tokenizer = AutoTokenizer.from_pretrained(checkpoint) # load only the required tokenizer that knows the input format for the ceckpoint\n",
        "\n",
        "\n",
        "def tokenize_function(example):\n",
        "    return tokenizer(example[\"sentence1\"], example[\"sentence2\"], truncation=True)\n",
        "\n",
        "\n",
        "tokenized_datasets = raw_datasets.map(tokenize_function, batched=True) #used map bc other intuitive ways didnt yield the req format\n",
        "# req format: each example is a dict with input ids, labels, token_type_ids (???) and attention mask\n",
        "data_collator = DataCollatorWithPadding(tokenizer=tokenizer) # dynamic padding: padding done for each batch instead as per the max of the entire dataset."
      ]
    },
    {
      "cell_type": "code",
      "source": [
        "! pip install -U accelerate\n",
        "! pip install -U transformers"
      ],
      "metadata": {
        "id": "_RQdrmwP1tBk",
        "outputId": "88400a1c-151a-40fc-a494-5fb1e16a75aa",
        "colab": {
          "base_uri": "https://localhost:8080/",
          "height": 1000
        }
      },
      "execution_count": 4,
      "outputs": [
        {
          "output_type": "stream",
          "name": "stdout",
          "text": [
            "Collecting accelerate\n",
            "  Downloading accelerate-0.26.1-py3-none-any.whl (270 kB)\n",
            "\u001b[2K     \u001b[90m━━━━━━━━━━━━━━━━━━━━━━━━━━━━━━━━━━━━━━━━\u001b[0m \u001b[32m270.9/270.9 kB\u001b[0m \u001b[31m1.9 MB/s\u001b[0m eta \u001b[36m0:00:00\u001b[0m\n",
            "\u001b[?25hRequirement already satisfied: numpy>=1.17 in /usr/local/lib/python3.10/dist-packages (from accelerate) (1.23.5)\n",
            "Requirement already satisfied: packaging>=20.0 in /usr/local/lib/python3.10/dist-packages (from accelerate) (23.2)\n",
            "Requirement already satisfied: psutil in /usr/local/lib/python3.10/dist-packages (from accelerate) (5.9.5)\n",
            "Requirement already satisfied: pyyaml in /usr/local/lib/python3.10/dist-packages (from accelerate) (6.0.1)\n",
            "Requirement already satisfied: torch>=1.10.0 in /usr/local/lib/python3.10/dist-packages (from accelerate) (2.1.0+cu121)\n",
            "Requirement already satisfied: huggingface-hub in /usr/local/lib/python3.10/dist-packages (from accelerate) (0.20.2)\n",
            "Requirement already satisfied: safetensors>=0.3.1 in /usr/local/lib/python3.10/dist-packages (from accelerate) (0.4.1)\n",
            "Requirement already satisfied: filelock in /usr/local/lib/python3.10/dist-packages (from torch>=1.10.0->accelerate) (3.13.1)\n",
            "Requirement already satisfied: typing-extensions in /usr/local/lib/python3.10/dist-packages (from torch>=1.10.0->accelerate) (4.5.0)\n",
            "Requirement already satisfied: sympy in /usr/local/lib/python3.10/dist-packages (from torch>=1.10.0->accelerate) (1.12)\n",
            "Requirement already satisfied: networkx in /usr/local/lib/python3.10/dist-packages (from torch>=1.10.0->accelerate) (3.2.1)\n",
            "Requirement already satisfied: jinja2 in /usr/local/lib/python3.10/dist-packages (from torch>=1.10.0->accelerate) (3.1.3)\n",
            "Requirement already satisfied: fsspec in /usr/local/lib/python3.10/dist-packages (from torch>=1.10.0->accelerate) (2023.6.0)\n",
            "Requirement already satisfied: triton==2.1.0 in /usr/local/lib/python3.10/dist-packages (from torch>=1.10.0->accelerate) (2.1.0)\n",
            "Requirement already satisfied: requests in /usr/local/lib/python3.10/dist-packages (from huggingface-hub->accelerate) (2.31.0)\n",
            "Requirement already satisfied: tqdm>=4.42.1 in /usr/local/lib/python3.10/dist-packages (from huggingface-hub->accelerate) (4.66.1)\n",
            "Requirement already satisfied: MarkupSafe>=2.0 in /usr/local/lib/python3.10/dist-packages (from jinja2->torch>=1.10.0->accelerate) (2.1.3)\n",
            "Requirement already satisfied: charset-normalizer<4,>=2 in /usr/local/lib/python3.10/dist-packages (from requests->huggingface-hub->accelerate) (3.3.2)\n",
            "Requirement already satisfied: idna<4,>=2.5 in /usr/local/lib/python3.10/dist-packages (from requests->huggingface-hub->accelerate) (3.6)\n",
            "Requirement already satisfied: urllib3<3,>=1.21.1 in /usr/local/lib/python3.10/dist-packages (from requests->huggingface-hub->accelerate) (2.0.7)\n",
            "Requirement already satisfied: certifi>=2017.4.17 in /usr/local/lib/python3.10/dist-packages (from requests->huggingface-hub->accelerate) (2023.11.17)\n",
            "Requirement already satisfied: mpmath>=0.19 in /usr/local/lib/python3.10/dist-packages (from sympy->torch>=1.10.0->accelerate) (1.3.0)\n",
            "Installing collected packages: accelerate\n",
            "Successfully installed accelerate-0.26.1\n",
            "Requirement already satisfied: transformers in /usr/local/lib/python3.10/dist-packages (4.35.2)\n",
            "Collecting transformers\n",
            "  Downloading transformers-4.36.2-py3-none-any.whl (8.2 MB)\n",
            "\u001b[2K     \u001b[90m━━━━━━━━━━━━━━━━━━━━━━━━━━━━━━━━━━━━━━━━\u001b[0m \u001b[32m8.2/8.2 MB\u001b[0m \u001b[31m26.6 MB/s\u001b[0m eta \u001b[36m0:00:00\u001b[0m\n",
            "\u001b[?25hRequirement already satisfied: filelock in /usr/local/lib/python3.10/dist-packages (from transformers) (3.13.1)\n",
            "Requirement already satisfied: huggingface-hub<1.0,>=0.19.3 in /usr/local/lib/python3.10/dist-packages (from transformers) (0.20.2)\n",
            "Requirement already satisfied: numpy>=1.17 in /usr/local/lib/python3.10/dist-packages (from transformers) (1.23.5)\n",
            "Requirement already satisfied: packaging>=20.0 in /usr/local/lib/python3.10/dist-packages (from transformers) (23.2)\n",
            "Requirement already satisfied: pyyaml>=5.1 in /usr/local/lib/python3.10/dist-packages (from transformers) (6.0.1)\n",
            "Requirement already satisfied: regex!=2019.12.17 in /usr/local/lib/python3.10/dist-packages (from transformers) (2023.6.3)\n",
            "Requirement already satisfied: requests in /usr/local/lib/python3.10/dist-packages (from transformers) (2.31.0)\n",
            "Requirement already satisfied: tokenizers<0.19,>=0.14 in /usr/local/lib/python3.10/dist-packages (from transformers) (0.15.0)\n",
            "Requirement already satisfied: safetensors>=0.3.1 in /usr/local/lib/python3.10/dist-packages (from transformers) (0.4.1)\n",
            "Requirement already satisfied: tqdm>=4.27 in /usr/local/lib/python3.10/dist-packages (from transformers) (4.66.1)\n",
            "Requirement already satisfied: fsspec>=2023.5.0 in /usr/local/lib/python3.10/dist-packages (from huggingface-hub<1.0,>=0.19.3->transformers) (2023.6.0)\n",
            "Requirement already satisfied: typing-extensions>=3.7.4.3 in /usr/local/lib/python3.10/dist-packages (from huggingface-hub<1.0,>=0.19.3->transformers) (4.5.0)\n",
            "Requirement already satisfied: charset-normalizer<4,>=2 in /usr/local/lib/python3.10/dist-packages (from requests->transformers) (3.3.2)\n",
            "Requirement already satisfied: idna<4,>=2.5 in /usr/local/lib/python3.10/dist-packages (from requests->transformers) (3.6)\n",
            "Requirement already satisfied: urllib3<3,>=1.21.1 in /usr/local/lib/python3.10/dist-packages (from requests->transformers) (2.0.7)\n",
            "Requirement already satisfied: certifi>=2017.4.17 in /usr/local/lib/python3.10/dist-packages (from requests->transformers) (2023.11.17)\n",
            "Installing collected packages: transformers\n",
            "  Attempting uninstall: transformers\n",
            "    Found existing installation: transformers 4.35.2\n",
            "    Uninstalling transformers-4.35.2:\n",
            "      Successfully uninstalled transformers-4.35.2\n",
            "Successfully installed transformers-4.36.2\n"
          ]
        },
        {
          "output_type": "display_data",
          "data": {
            "application/vnd.colab-display-data+json": {
              "pip_warning": {
                "packages": [
                  "transformers"
                ]
              }
            }
          },
          "metadata": {}
        }
      ]
    },
    {
      "cell_type": "code",
      "execution_count": 2,
      "metadata": {
        "id": "Jbz29v22zu91"
      },
      "outputs": [],
      "source": [
        "from transformers import TrainingArguments\n",
        "\n",
        "training_args = TrainingArguments(\"test-trainer\") # define the path to save model and checkpoints #can also push to hf-spaces using some args"
      ]
    },
    {
      "cell_type": "code",
      "execution_count": 3,
      "metadata": {
        "id": "cEcBctnGzu92",
        "outputId": "40553ff5-c7ab-4e25-cd93-929a26c7101c",
        "colab": {
          "base_uri": "https://localhost:8080/",
          "height": 104,
          "referenced_widgets": [
            "e06f737944f144d4b7ded6440cf3b585",
            "eced186dc9f64169b59ea390ac3ec1d9",
            "02d075c032dd45daab26e70195afb74f",
            "994adc56143944cfb80bc2b082195048",
            "d5b1ccdf8f5c486c90f57b4aef206766",
            "11e9d9ed5e7f40a8933fe643e7925ea0",
            "c537d1b6ad7342d39c00f1e52f289fcd",
            "1c7e9691002944dcb2d08c6595a888b9",
            "5b6e9977ff99439eb4d1f0d4d41a311c",
            "ca22044b727e4702b7a4761cc4f76fc7",
            "df400267c0674f2bbda1a8825e0d67d2"
          ]
        }
      },
      "outputs": [
        {
          "output_type": "display_data",
          "data": {
            "text/plain": [
              "model.safetensors:   0%|          | 0.00/440M [00:00<?, ?B/s]"
            ],
            "application/vnd.jupyter.widget-view+json": {
              "version_major": 2,
              "version_minor": 0,
              "model_id": "e06f737944f144d4b7ded6440cf3b585"
            }
          },
          "metadata": {}
        },
        {
          "output_type": "stream",
          "name": "stderr",
          "text": [
            "Some weights of BertForSequenceClassification were not initialized from the model checkpoint at bert-base-uncased and are newly initialized: ['classifier.weight', 'classifier.bias']\n",
            "You should probably TRAIN this model on a down-stream task to be able to use it for predictions and inference.\n"
          ]
        }
      ],
      "source": [
        "from transformers import AutoModelForSequenceClassification\n",
        "\n",
        "model = AutoModelForSequenceClassification.from_pretrained(checkpoint, num_labels=2)\n",
        "\n",
        "# usual bert head was removed and a new head was added for the sentence classification task\n",
        "# therefore we need to learn weights for the same by fine-tuning it"
      ]
    },
    {
      "cell_type": "code",
      "execution_count": 4,
      "metadata": {
        "id": "ekGyH7QDzu93"
      },
      "outputs": [],
      "source": [
        "from transformers import Trainer\n",
        "\n",
        "trainer = Trainer(\n",
        "    model,\n",
        "    training_args,\n",
        "    train_dataset=tokenized_datasets[\"train\"],\n",
        "    eval_dataset=tokenized_datasets[\"validation\"],\n",
        "    data_collator=data_collator,\n",
        "    tokenizer=tokenizer,\n",
        ")"
      ]
    },
    {
      "cell_type": "code",
      "execution_count": 5,
      "metadata": {
        "id": "wDlepTBMzu94",
        "outputId": "2fe8bebe-2f61-4f63-bfe1-05d94f6710fb",
        "colab": {
          "base_uri": "https://localhost:8080/",
          "height": 228
        }
      },
      "outputs": [
        {
          "output_type": "stream",
          "name": "stderr",
          "text": [
            "You're using a BertTokenizerFast tokenizer. Please note that with a fast tokenizer, using the `__call__` method is faster than using a method to encode the text followed by a call to the `pad` method to get a padded encoding.\n"
          ]
        },
        {
          "output_type": "display_data",
          "data": {
            "text/plain": [
              "<IPython.core.display.HTML object>"
            ],
            "text/html": [
              "\n",
              "    <div>\n",
              "      \n",
              "      <progress value='1377' max='1377' style='width:300px; height:20px; vertical-align: middle;'></progress>\n",
              "      [1377/1377 2:27:02, Epoch 3/3]\n",
              "    </div>\n",
              "    <table border=\"1\" class=\"dataframe\">\n",
              "  <thead>\n",
              " <tr style=\"text-align: left;\">\n",
              "      <th>Step</th>\n",
              "      <th>Training Loss</th>\n",
              "    </tr>\n",
              "  </thead>\n",
              "  <tbody>\n",
              "    <tr>\n",
              "      <td>500</td>\n",
              "      <td>0.500400</td>\n",
              "    </tr>\n",
              "    <tr>\n",
              "      <td>1000</td>\n",
              "      <td>0.261300</td>\n",
              "    </tr>\n",
              "  </tbody>\n",
              "</table><p>"
            ]
          },
          "metadata": {}
        },
        {
          "output_type": "execute_result",
          "data": {
            "text/plain": [
              "TrainOutput(global_step=1377, training_loss=0.3038359637180791, metrics={'train_runtime': 8830.8862, 'train_samples_per_second': 1.246, 'train_steps_per_second': 0.156, 'total_flos': 405258858573360.0, 'train_loss': 0.3038359637180791, 'epoch': 3.0})"
            ]
          },
          "metadata": {},
          "execution_count": 5
        }
      ],
      "source": [
        "trainer.train()"
      ]
    },
    {
      "cell_type": "code",
      "execution_count": 6,
      "metadata": {
        "id": "QUOvs8C_zu95",
        "outputId": "ef4237c6-38fa-4a86-f600-7291095b2130",
        "colab": {
          "base_uri": "https://localhost:8080/",
          "height": 34
        }
      },
      "outputs": [
        {
          "output_type": "display_data",
          "data": {
            "text/plain": [
              "<IPython.core.display.HTML object>"
            ],
            "text/html": []
          },
          "metadata": {}
        },
        {
          "output_type": "stream",
          "name": "stdout",
          "text": [
            "(408, 2) (408,)\n"
          ]
        }
      ],
      "source": [
        "predictions = trainer.predict(tokenized_datasets[\"validation\"])\n",
        "print(predictions.predictions.shape, predictions.label_ids.shape) #408 examples, 2 logit values"
      ]
    },
    {
      "cell_type": "code",
      "source": [
        "type(predictions)"
      ],
      "metadata": {
        "id": "mGYREjHVoPIa",
        "outputId": "ca10aa66-c779-4f6f-fd11-f05f8b494033",
        "colab": {
          "base_uri": "https://localhost:8080/"
        }
      },
      "execution_count": 9,
      "outputs": [
        {
          "output_type": "execute_result",
          "data": {
            "text/plain": [
              "transformers.trainer_utils.PredictionOutput"
            ]
          },
          "metadata": {},
          "execution_count": 9
        }
      ]
    },
    {
      "cell_type": "code",
      "source": [
        "predictions.predictions"
      ],
      "metadata": {
        "id": "sgYEz2wppLVK",
        "outputId": "2ddea999-7928-46f5-b26b-9a7ef07dd588",
        "colab": {
          "base_uri": "https://localhost:8080/"
        }
      },
      "execution_count": 12,
      "outputs": [
        {
          "output_type": "execute_result",
          "data": {
            "text/plain": [
              "array([[-3.702753  ,  3.2949603 ],\n",
              "       [ 3.3347008 , -3.4751604 ],\n",
              "       [ 1.3368034 , -1.460804  ],\n",
              "       [-3.7992265 ,  3.2827208 ],\n",
              "       [ 2.3796046 , -2.239948  ],\n",
              "       [-3.7685294 ,  3.3954048 ],\n",
              "       [-2.02649   ,  1.4917822 ],\n",
              "       [-3.7865217 ,  3.3180864 ],\n",
              "       [-3.6226745 ,  3.235511  ],\n",
              "       [-3.5463727 ,  3.153292  ],\n",
              "       [-3.7315676 ,  3.245928  ],\n",
              "       [ 2.974878  , -3.0022454 ],\n",
              "       [ 3.3639672 , -3.388706  ],\n",
              "       [-3.6458886 ,  3.2267215 ],\n",
              "       [-3.6166215 ,  3.149113  ],\n",
              "       [ 0.79998106, -1.2534198 ],\n",
              "       [-3.5307212 ,  3.011822  ],\n",
              "       [ 2.5256093 , -2.627209  ],\n",
              "       [-3.5587804 ,  3.0891602 ],\n",
              "       [ 1.5237595 , -0.85728294],\n",
              "       [ 3.254595  , -3.428234  ],\n",
              "       [-3.5030112 ,  3.041995  ],\n",
              "       [ 1.5770895 , -1.5135016 ],\n",
              "       [-3.7108548 ,  3.322727  ],\n",
              "       [-3.854305  ,  3.4424274 ],\n",
              "       [ 1.4397316 , -1.105449  ],\n",
              "       [-1.7470547 ,  1.7088168 ],\n",
              "       [-3.5838144 ,  3.1276448 ],\n",
              "       [-3.7821167 ,  3.3966591 ],\n",
              "       [-3.4612896 ,  3.018358  ],\n",
              "       [ 1.1601355 , -0.7248581 ],\n",
              "       [-3.6392353 ,  3.1647508 ],\n",
              "       [-3.838575  ,  3.4346526 ],\n",
              "       [-3.5131056 ,  3.0643659 ],\n",
              "       [-3.7670386 ,  3.330192  ],\n",
              "       [-3.9053018 ,  3.4420311 ],\n",
              "       [ 2.7241015 , -3.1222045 ],\n",
              "       [ 3.2383687 , -3.2229354 ],\n",
              "       [-3.5207152 ,  3.0348723 ],\n",
              "       [-3.641826  ,  3.2046673 ],\n",
              "       [ 2.586744  , -2.3650415 ],\n",
              "       [-3.6775453 ,  3.2474196 ],\n",
              "       [ 2.7477624 , -3.2010622 ],\n",
              "       [ 3.0203316 , -3.2867522 ],\n",
              "       [ 2.1561096 , -1.6290433 ],\n",
              "       [-3.7431376 ,  3.2660558 ],\n",
              "       [-3.554683  ,  3.0821075 ],\n",
              "       [ 2.8616164 , -3.2656672 ],\n",
              "       [-3.6855698 ,  3.2236726 ],\n",
              "       [-3.837432  ,  3.4314768 ],\n",
              "       [-3.3002598 ,  2.976868  ],\n",
              "       [-3.8217018 ,  3.2580388 ],\n",
              "       [-3.6173675 ,  3.238549  ],\n",
              "       [-3.5497231 ,  3.108579  ],\n",
              "       [-3.6283557 ,  3.2820323 ],\n",
              "       [-3.8325586 ,  3.4226766 ],\n",
              "       [ 1.9005809 , -2.2288353 ],\n",
              "       [-3.628194  ,  3.1703975 ],\n",
              "       [-3.6092045 ,  3.173807  ],\n",
              "       [-3.8656893 ,  3.4342282 ],\n",
              "       [-3.685665  ,  3.2233267 ],\n",
              "       [-2.0083413 ,  2.0754383 ],\n",
              "       [-3.7609067 ,  3.3021648 ],\n",
              "       [-3.753815  ,  3.2976959 ],\n",
              "       [-3.7486963 ,  3.240201  ],\n",
              "       [ 3.2957103 , -3.1307285 ],\n",
              "       [-3.628931  ,  3.270963  ],\n",
              "       [-3.6651177 ,  3.2381096 ],\n",
              "       [-0.17764302,  0.36143988],\n",
              "       [-3.638017  ,  3.1530104 ],\n",
              "       [-3.675636  ,  3.1979406 ],\n",
              "       [-0.63356996,  0.5870854 ],\n",
              "       [-3.8305495 ,  3.3461788 ],\n",
              "       [-3.6947649 ,  3.476618  ],\n",
              "       [-3.743943  ,  3.3817387 ],\n",
              "       [-3.5512192 ,  3.2753282 ],\n",
              "       [-3.6844077 ,  3.2687595 ],\n",
              "       [-3.5405924 ,  3.1593044 ],\n",
              "       [-3.7921023 ,  3.3654625 ],\n",
              "       [-3.863722  ,  3.4651716 ],\n",
              "       [-0.9408534 ,  0.98419076],\n",
              "       [-3.8116565 ,  3.3609884 ],\n",
              "       [-3.724389  ,  3.331624  ],\n",
              "       [ 2.717454  , -2.918638  ],\n",
              "       [-3.8084843 ,  3.3943923 ],\n",
              "       [ 2.352416  , -2.3943384 ],\n",
              "       [-3.2513893 ,  3.2316873 ],\n",
              "       [-3.2074187 ,  2.8818724 ],\n",
              "       [-3.7325587 ,  3.2858288 ],\n",
              "       [-3.5690439 ,  3.0695958 ],\n",
              "       [-0.11381656, -0.50789875],\n",
              "       [-3.8521821 ,  3.3665664 ],\n",
              "       [-3.8212533 ,  3.5162923 ],\n",
              "       [-3.8027003 ,  3.369081  ],\n",
              "       [-3.8537805 ,  3.4133904 ],\n",
              "       [-3.715794  ,  3.2689908 ],\n",
              "       [-1.1908917 ,  1.2127478 ],\n",
              "       [-3.585811  ,  3.1243308 ],\n",
              "       [-3.6828458 ,  3.3058894 ],\n",
              "       [-3.495448  ,  3.0880795 ],\n",
              "       [-3.665199  ,  3.2561374 ],\n",
              "       [ 0.33519477,  0.07651637],\n",
              "       [-3.6856146 ,  3.1824229 ],\n",
              "       [-3.660341  ,  3.2306774 ],\n",
              "       [ 3.11046   , -2.9811785 ],\n",
              "       [-3.7410407 ,  3.3468535 ],\n",
              "       [-3.504862  ,  3.3072553 ],\n",
              "       [ 2.7574031 , -3.1423483 ],\n",
              "       [ 3.0011172 , -3.3579154 ],\n",
              "       [-3.7059252 ,  3.250657  ],\n",
              "       [-3.1489904 ,  2.903752  ],\n",
              "       [-3.7218063 ,  3.4470959 ],\n",
              "       [-3.3762968 ,  2.8957002 ],\n",
              "       [-3.6493096 ,  3.1702852 ],\n",
              "       [-3.0462873 ,  2.9182904 ],\n",
              "       [ 3.109667  , -2.9912794 ],\n",
              "       [-3.838962  ,  3.3753963 ],\n",
              "       [-3.7526724 ,  3.435785  ],\n",
              "       [-3.652789  ,  3.1815755 ],\n",
              "       [-3.6713583 ,  3.291814  ],\n",
              "       [-3.6711447 ,  3.2178404 ],\n",
              "       [-3.6526644 ,  3.2391503 ],\n",
              "       [ 2.884421  , -3.3095152 ],\n",
              "       [-3.7250645 ,  3.2509205 ],\n",
              "       [-3.6475837 ,  3.2281585 ],\n",
              "       [-3.733248  ,  3.3349493 ],\n",
              "       [-3.6821313 ,  3.2924726 ],\n",
              "       [ 2.950517  , -3.2804663 ],\n",
              "       [-3.784836  ,  3.3354065 ],\n",
              "       [-3.6191928 ,  3.111913  ],\n",
              "       [-3.6922486 ,  3.17926   ],\n",
              "       [ 2.5509584 , -2.840778  ],\n",
              "       [-3.7145836 ,  3.3078666 ],\n",
              "       [ 2.5475843 , -2.9695017 ],\n",
              "       [-3.7319446 ,  3.401615  ],\n",
              "       [-3.69051   ,  3.1785076 ],\n",
              "       [ 2.7776816 , -3.1227875 ],\n",
              "       [ 3.3189442 , -3.0360487 ],\n",
              "       [-3.612249  ,  3.1264763 ],\n",
              "       [-3.7623327 ,  3.3348136 ],\n",
              "       [-3.6493192 ,  3.1941621 ],\n",
              "       [ 1.7009894 , -1.8463492 ],\n",
              "       [ 3.231219  , -3.428152  ],\n",
              "       [-3.8163154 ,  3.32458   ],\n",
              "       [ 3.1576488 , -3.199484  ],\n",
              "       [-3.6110342 ,  3.0785556 ],\n",
              "       [-3.534291  ,  3.101187  ],\n",
              "       [-1.527499  ,  1.4928943 ],\n",
              "       [-1.5852692 ,  1.2213396 ],\n",
              "       [-3.787504  ,  3.3090706 ],\n",
              "       [ 2.6096134 , -2.1831865 ],\n",
              "       [-3.5479622 ,  3.0792875 ],\n",
              "       [-3.5750992 ,  3.3149526 ],\n",
              "       [-3.898827  ,  3.4936392 ],\n",
              "       [-2.2623634 ,  1.9154469 ],\n",
              "       [-3.8810093 ,  3.466737  ],\n",
              "       [-3.836522  ,  3.350579  ],\n",
              "       [-2.1077158 ,  2.306884  ],\n",
              "       [ 2.4684918 , -2.6704104 ],\n",
              "       [-3.2345679 ,  3.0099263 ],\n",
              "       [-3.78972   ,  3.3996222 ],\n",
              "       [-3.7509878 ,  3.397855  ],\n",
              "       [-3.5478342 ,  3.1032984 ],\n",
              "       [-3.524276  ,  3.1924198 ],\n",
              "       [-3.5601757 ,  3.1041553 ],\n",
              "       [-3.574621  ,  3.1677144 ],\n",
              "       [-3.5265384 ,  3.0313246 ],\n",
              "       [ 2.273999  , -2.843704  ],\n",
              "       [-3.641409  ,  3.2613223 ],\n",
              "       [ 3.1287034 , -3.373161  ],\n",
              "       [-2.0910933 ,  2.2790563 ],\n",
              "       [ 1.5194063 , -1.9022174 ],\n",
              "       [-2.2526515 ,  2.1921394 ],\n",
              "       [-3.5310345 ,  3.09326   ],\n",
              "       [ 2.228674  , -2.4306965 ],\n",
              "       [-3.785514  ,  3.4689972 ],\n",
              "       [-3.6529686 ,  3.2077482 ],\n",
              "       [ 2.9413714 , -3.267281  ],\n",
              "       [-3.657926  ,  3.1710484 ],\n",
              "       [-3.721049  ,  3.3321545 ],\n",
              "       [-1.8875289 ,  1.6889635 ],\n",
              "       [-3.702821  ,  3.3249867 ],\n",
              "       [-3.6234214 ,  3.1136472 ],\n",
              "       [-3.7720854 ,  3.2863777 ],\n",
              "       [ 2.980447  , -3.168668  ],\n",
              "       [-3.6440654 ,  3.401044  ],\n",
              "       [ 2.5890133 , -2.520567  ],\n",
              "       [-2.01351   ,  2.1033998 ],\n",
              "       [ 3.0747    , -3.3538504 ],\n",
              "       [-3.2875369 ,  3.1406777 ],\n",
              "       [-3.7053459 ,  3.2080219 ],\n",
              "       [ 2.9523683 , -2.7893589 ],\n",
              "       [ 0.4634903 , -0.5103294 ],\n",
              "       [-3.434389  ,  2.9306657 ],\n",
              "       [-0.12678477,  0.29439405],\n",
              "       [-3.684222  ,  3.2865698 ],\n",
              "       [-3.59729   ,  3.2169695 ],\n",
              "       [-3.445964  ,  3.261419  ],\n",
              "       [-3.8347535 ,  3.4414213 ],\n",
              "       [-3.7289135 ,  3.3708436 ],\n",
              "       [-3.4948618 ,  3.2402396 ],\n",
              "       [-3.6593237 ,  3.0911963 ],\n",
              "       [-3.4465268 ,  3.1586678 ],\n",
              "       [-3.6738696 ,  3.1456203 ],\n",
              "       [-3.8573623 ,  3.5102642 ],\n",
              "       [ 3.1293838 , -3.3321164 ],\n",
              "       [-3.8017077 ,  3.3071864 ],\n",
              "       [-3.2950633 ,  2.8491812 ],\n",
              "       [-0.24526218,  0.03593547],\n",
              "       [ 1.3455688 , -1.6618372 ],\n",
              "       [-2.0332808 ,  1.9097055 ],\n",
              "       [-3.6262796 ,  3.1775692 ],\n",
              "       [-3.4723012 ,  3.2360976 ],\n",
              "       [ 2.7428946 , -2.3970492 ],\n",
              "       [-3.6206822 ,  3.190675  ],\n",
              "       [-3.744617  ,  3.3402278 ],\n",
              "       [-3.6650498 ,  3.1767046 ],\n",
              "       [-3.7865784 ,  3.2809627 ],\n",
              "       [ 2.9658046 , -3.343592  ],\n",
              "       [-3.6114805 ,  3.3108227 ],\n",
              "       [-3.7275295 ,  3.1418612 ],\n",
              "       [-3.3368175 ,  3.1198182 ],\n",
              "       [-3.7140548 ,  3.279791  ],\n",
              "       [ 3.3372529 , -3.2537599 ],\n",
              "       [-3.7405787 ,  3.3097997 ],\n",
              "       [-3.6057785 ,  3.2442539 ],\n",
              "       [-3.6517668 ,  3.230472  ],\n",
              "       [-3.6715684 ,  3.3354566 ],\n",
              "       [-3.8398213 ,  3.4982488 ],\n",
              "       [-3.7206972 ,  3.2641935 ],\n",
              "       [-3.6544955 ,  3.2175722 ],\n",
              "       [-3.7216187 ,  3.3159726 ],\n",
              "       [-0.39902788,  0.6635194 ],\n",
              "       [ 2.2187302 , -2.2028873 ],\n",
              "       [ 1.9548637 , -2.1114848 ],\n",
              "       [ 2.0668497 , -2.2328603 ],\n",
              "       [-3.7799027 ,  3.4954574 ],\n",
              "       [-0.59793633,  0.62865275],\n",
              "       [-3.5252748 ,  3.3272824 ],\n",
              "       [-3.4075434 ,  3.2517397 ],\n",
              "       [-3.6800015 ,  3.3142993 ],\n",
              "       [ 2.9392111 , -3.2810776 ],\n",
              "       [-3.4614933 ,  3.1836092 ],\n",
              "       [-3.4451258 ,  3.1595645 ],\n",
              "       [-3.6783283 ,  3.2271926 ],\n",
              "       [-3.7887638 ,  3.321699  ],\n",
              "       [-3.590809  ,  3.2407217 ],\n",
              "       [-3.5176647 ,  3.0467927 ],\n",
              "       [-3.6137345 ,  3.172452  ],\n",
              "       [-3.8222165 ,  3.4194248 ],\n",
              "       [-3.7454073 ,  3.2945454 ],\n",
              "       [ 2.206399  , -2.687534  ],\n",
              "       [ 2.5462315 , -2.6195772 ],\n",
              "       [ 1.0414127 , -0.5520605 ],\n",
              "       [ 1.0897696 , -0.83247626],\n",
              "       [ 2.7946746 , -3.185129  ],\n",
              "       [-3.8350546 ,  3.4029236 ],\n",
              "       [-3.8532658 ,  3.3813264 ],\n",
              "       [-3.6135647 ,  3.2244833 ],\n",
              "       [-1.8747545 ,  2.0151737 ],\n",
              "       [-3.6451294 ,  3.3846784 ],\n",
              "       [-3.620458  ,  3.2466643 ],\n",
              "       [-3.5995762 ,  3.0980074 ],\n",
              "       [-1.6807306 ,  1.5355568 ],\n",
              "       [-3.3769314 ,  2.9627593 ],\n",
              "       [-1.7977507 ,  1.5251751 ],\n",
              "       [ 2.6055768 , -2.996362  ],\n",
              "       [ 2.6762402 , -3.1649191 ],\n",
              "       [ 2.7629855 , -3.1439068 ],\n",
              "       [-3.7579527 ,  3.4107044 ],\n",
              "       [ 2.8598306 , -3.2606356 ],\n",
              "       [-3.600949  ,  3.0848877 ],\n",
              "       [-3.7258348 ,  3.2564561 ],\n",
              "       [-3.7362013 ,  3.2930071 ],\n",
              "       [-3.6013253 ,  3.1796563 ],\n",
              "       [-3.6719615 ,  3.237728  ],\n",
              "       [-3.4623492 ,  3.3284934 ],\n",
              "       [-3.1164641 ,  2.863456  ],\n",
              "       [-3.611468  ,  3.3062286 ],\n",
              "       [ 2.4197416 , -1.9604952 ],\n",
              "       [-3.7117503 ,  3.2549372 ],\n",
              "       [-3.7672877 ,  3.2858818 ],\n",
              "       [-1.4593905 ,  1.410537  ],\n",
              "       [ 3.1531541 , -3.3287613 ],\n",
              "       [ 0.59215975, -1.055826  ],\n",
              "       [-3.8260906 ,  3.3388975 ],\n",
              "       [-3.6537893 ,  3.204969  ],\n",
              "       [-2.9841735 ,  2.7425363 ],\n",
              "       [-3.6194353 ,  3.2126477 ],\n",
              "       [ 1.5714335 , -1.2592261 ],\n",
              "       [-2.1409225 ,  1.9374336 ],\n",
              "       [ 2.7658668 , -3.1956365 ],\n",
              "       [-3.636979  ,  3.243985  ],\n",
              "       [-3.6557195 ,  3.218234  ],\n",
              "       [-3.642251  ,  3.3103316 ],\n",
              "       [ 2.9674459 , -3.286321  ],\n",
              "       [ 3.0050209 , -3.3049276 ],\n",
              "       [-3.4345763 ,  3.2527845 ],\n",
              "       [-3.577405  ,  3.0895405 ],\n",
              "       [ 2.691872  , -3.0871577 ],\n",
              "       [-3.634777  ,  3.2009    ],\n",
              "       [-3.5356083 ,  3.1154842 ],\n",
              "       [-3.7576652 ,  3.2562592 ],\n",
              "       [ 2.81076   , -2.8052094 ],\n",
              "       [-3.8362665 ,  3.4301178 ],\n",
              "       [-3.8386476 ,  3.403467  ],\n",
              "       [ 3.3327277 , -3.285125  ],\n",
              "       [-3.6295855 ,  3.0634613 ],\n",
              "       [ 2.7815623 , -2.613067  ],\n",
              "       [-3.5469768 ,  3.123912  ],\n",
              "       [-3.6644428 ,  3.1410277 ],\n",
              "       [-3.5309741 ,  3.047034  ],\n",
              "       [ 2.0650349 , -2.2468076 ],\n",
              "       [ 2.9808767 , -3.2423756 ],\n",
              "       [-3.6517513 ,  3.2356832 ],\n",
              "       [ 1.234363  , -1.5384488 ],\n",
              "       [-2.1093776 ,  1.7100148 ],\n",
              "       [-3.8085482 ,  3.4247007 ],\n",
              "       [ 2.9208748 , -2.7209513 ],\n",
              "       [ 3.116312  , -3.3192499 ],\n",
              "       [ 3.2454329 , -3.303384  ],\n",
              "       [ 3.2447288 , -3.4351804 ],\n",
              "       [ 3.3143828 , -3.4861004 ],\n",
              "       [-3.1787655 ,  3.0226467 ],\n",
              "       [ 2.772784  , -3.2258632 ],\n",
              "       [-3.578523  ,  3.1163223 ],\n",
              "       [-3.6768363 ,  3.201219  ],\n",
              "       [-3.5506275 ,  3.0893734 ],\n",
              "       [-3.8890548 ,  3.45613   ],\n",
              "       [-3.6947925 ,  3.4908848 ],\n",
              "       [-3.6222804 ,  3.1317554 ],\n",
              "       [-3.5616965 ,  3.087073  ],\n",
              "       [-2.5787144 ,  2.8213785 ],\n",
              "       [-3.7516317 ,  3.259467  ],\n",
              "       [-3.6760292 ,  3.2774806 ],\n",
              "       [-3.6288657 ,  3.276731  ],\n",
              "       [-3.886574  ,  3.4723904 ],\n",
              "       [-3.7729125 ,  3.3840334 ],\n",
              "       [ 2.3868914 , -2.79018   ],\n",
              "       [-3.4396932 ,  3.1822891 ],\n",
              "       [-3.7796838 ,  3.4774745 ],\n",
              "       [-3.7381532 ,  3.2665737 ],\n",
              "       [ 3.1066377 , -3.0566003 ],\n",
              "       [ 3.0140784 , -3.1904905 ],\n",
              "       [-3.6027467 ,  3.1500952 ],\n",
              "       [-3.6903002 ,  3.2076726 ],\n",
              "       [-3.6683688 ,  3.319099  ],\n",
              "       [-3.6282845 ,  3.1992347 ],\n",
              "       [-3.1774116 ,  2.8330271 ],\n",
              "       [-3.7279806 ,  3.263866  ],\n",
              "       [ 3.1621377 , -3.1596553 ],\n",
              "       [-3.679424  ,  3.2488334 ],\n",
              "       [-2.9516478 ,  2.0434892 ],\n",
              "       [-3.8011138 ,  3.362024  ],\n",
              "       [ 3.1886222 , -3.26902   ],\n",
              "       [-2.4365208 ,  2.6149228 ],\n",
              "       [-3.686474  ,  3.2247622 ],\n",
              "       [-3.050401  ,  2.9200265 ],\n",
              "       [-3.6898353 ,  3.4137964 ],\n",
              "       [-3.6914253 ,  3.269578  ],\n",
              "       [-2.4829185 ,  2.599988  ],\n",
              "       [-3.6948001 ,  3.2178135 ],\n",
              "       [-3.6547668 ,  3.2123168 ],\n",
              "       [ 2.1770527 , -2.1274183 ],\n",
              "       [-3.658284  ,  3.2056344 ],\n",
              "       [-3.5374184 ,  3.0308998 ],\n",
              "       [-3.6011813 ,  3.164121  ],\n",
              "       [-3.6880171 ,  3.4391186 ],\n",
              "       [ 2.8493457 , -2.6526277 ],\n",
              "       [ 2.768245  , -3.1961186 ],\n",
              "       [ 2.1703134 , -2.5551298 ],\n",
              "       [-3.7347295 ,  3.3506777 ],\n",
              "       [-3.5690947 ,  3.0923488 ],\n",
              "       [-3.4802477 ,  3.1940744 ],\n",
              "       [ 2.8715928 , -3.1915944 ],\n",
              "       [ 3.3275235 , -3.4130511 ],\n",
              "       [-3.740816  ,  3.4482126 ],\n",
              "       [ 3.2772002 , -3.3076127 ],\n",
              "       [ 0.02160944, -0.05471475],\n",
              "       [-3.7585013 ,  3.3320792 ],\n",
              "       [-2.9051785 ,  2.5091343 ],\n",
              "       [-3.7025287 ,  3.3203857 ],\n",
              "       [-2.1480203 ,  2.3253605 ],\n",
              "       [-3.68564   ,  3.2123556 ],\n",
              "       [-3.640249  ,  3.2221243 ],\n",
              "       [ 2.8003206 , -2.846685  ],\n",
              "       [-3.5049045 ,  3.1567404 ],\n",
              "       [-0.17522831,  0.45543885],\n",
              "       [-3.7458496 ,  3.2558968 ],\n",
              "       [-1.5261097 ,  1.2424772 ],\n",
              "       [-3.6293366 ,  3.1878033 ],\n",
              "       [-2.4829478 ,  2.2020042 ],\n",
              "       [-3.6156285 ,  3.1662068 ],\n",
              "       [-3.5645664 ,  3.0094573 ],\n",
              "       [-3.5974646 ,  3.140122  ],\n",
              "       [-3.7489223 ,  3.2851853 ],\n",
              "       [-3.6411304 ,  3.17745   ],\n",
              "       [-2.5455253 ,  2.6656456 ],\n",
              "       [-3.6303945 ,  3.2192674 ],\n",
              "       [-3.6696398 ,  3.2462378 ],\n",
              "       [ 3.3682072 , -3.2365391 ],\n",
              "       [-3.7216756 ,  3.2545617 ],\n",
              "       [-3.662202  ,  3.364511  ],\n",
              "       [ 2.5060523 , -3.032222  ],\n",
              "       [-1.1960506 ,  1.3344823 ],\n",
              "       [-3.6309068 ,  3.1698854 ],\n",
              "       [ 3.359977  , -3.4463103 ],\n",
              "       [-3.8147926 ,  3.4583514 ]], dtype=float32)"
            ]
          },
          "metadata": {},
          "execution_count": 12
        }
      ]
    },
    {
      "cell_type": "code",
      "source": [
        "predictions.label_ids"
      ],
      "metadata": {
        "id": "FV0RO5W0qXxJ",
        "outputId": "95fafa97-3f05-467f-b944-dbfda9a15d91",
        "colab": {
          "base_uri": "https://localhost:8080/"
        }
      },
      "execution_count": 15,
      "outputs": [
        {
          "output_type": "execute_result",
          "data": {
            "text/plain": [
              "array([1, 0, 0, 1, 0, 1, 0, 1, 1, 1, 1, 0, 0, 1, 1, 1, 1, 0, 1, 0, 0, 1,\n",
              "       0, 1, 1, 1, 0, 1, 1, 1, 0, 1, 1, 1, 1, 0, 0, 0, 1, 1, 0, 1, 0, 0,\n",
              "       0, 1, 1, 0, 1, 1, 1, 1, 1, 1, 1, 1, 1, 1, 1, 1, 0, 1, 1, 1, 1, 0,\n",
              "       1, 1, 0, 1, 1, 1, 1, 1, 1, 1, 0, 1, 1, 1, 0, 1, 1, 0, 1, 0, 1, 0,\n",
              "       1, 1, 0, 1, 1, 0, 1, 1, 0, 1, 1, 1, 1, 1, 1, 1, 0, 1, 1, 0, 0, 1,\n",
              "       1, 1, 1, 1, 0, 0, 1, 1, 1, 1, 1, 1, 0, 1, 1, 1, 1, 0, 1, 1, 1, 0,\n",
              "       1, 0, 1, 1, 0, 0, 1, 0, 1, 0, 0, 1, 0, 0, 1, 1, 1, 1, 0, 1, 1, 1,\n",
              "       1, 1, 1, 0, 0, 1, 1, 1, 1, 1, 1, 1, 1, 0, 1, 0, 0, 1, 1, 1, 0, 1,\n",
              "       1, 0, 1, 1, 0, 0, 1, 1, 0, 1, 0, 1, 0, 1, 1, 0, 1, 1, 0, 1, 1, 0,\n",
              "       1, 1, 1, 0, 1, 1, 1, 0, 1, 1, 1, 0, 0, 1, 1, 0, 1, 1, 1, 1, 0, 1,\n",
              "       1, 1, 1, 0, 1, 1, 1, 1, 1, 1, 1, 1, 1, 1, 1, 0, 1, 0, 1, 0, 1, 0,\n",
              "       1, 1, 1, 1, 1, 0, 1, 1, 1, 0, 1, 0, 1, 0, 1, 1, 1, 0, 1, 0, 1, 1,\n",
              "       0, 1, 1, 0, 0, 1, 0, 1, 1, 1, 1, 1, 1, 1, 1, 0, 1, 1, 1, 0, 0, 1,\n",
              "       1, 1, 1, 1, 1, 0, 1, 1, 1, 0, 0, 0, 1, 1, 1, 1, 1, 1, 1, 1, 0, 1,\n",
              "       0, 0, 0, 1, 1, 0, 1, 0, 1, 1, 0, 0, 0, 0, 0, 1, 0, 1, 0, 1, 1, 1,\n",
              "       1, 1, 0, 1, 1, 1, 1, 0, 0, 1, 1, 1, 0, 0, 1, 1, 1, 1, 0, 1, 0, 1,\n",
              "       0, 1, 0, 0, 1, 1, 1, 1, 0, 1, 1, 0, 1, 1, 0, 1, 0, 0, 1, 1, 1, 1,\n",
              "       0, 0, 0, 0, 1, 1, 1, 1, 0, 1, 1, 0, 1, 0, 1, 1, 1, 1, 1, 1, 1, 1,\n",
              "       1, 1, 1, 1, 0, 1, 1, 0, 1, 1, 0, 1])"
            ]
          },
          "metadata": {},
          "execution_count": 15
        }
      ]
    },
    {
      "cell_type": "code",
      "execution_count": 14,
      "metadata": {
        "id": "J9JrAttrzu96",
        "outputId": "e84e1f42-5fee-410e-cd2f-4448af641750",
        "colab": {
          "base_uri": "https://localhost:8080/"
        }
      },
      "outputs": [
        {
          "output_type": "execute_result",
          "data": {
            "text/plain": [
              "array([1, 0, 0, 1, 0, 1, 1, 1, 1, 1, 1, 0, 0, 1, 1, 0, 1, 0, 1, 0, 0, 1,\n",
              "       0, 1, 1, 0, 1, 1, 1, 1, 0, 1, 1, 1, 1, 1, 0, 0, 1, 1, 0, 1, 0, 0,\n",
              "       0, 1, 1, 0, 1, 1, 1, 1, 1, 1, 1, 1, 0, 1, 1, 1, 1, 1, 1, 1, 1, 0,\n",
              "       1, 1, 1, 1, 1, 1, 1, 1, 1, 1, 1, 1, 1, 1, 1, 1, 1, 0, 1, 0, 1, 1,\n",
              "       1, 1, 0, 1, 1, 1, 1, 1, 1, 1, 1, 1, 1, 0, 1, 1, 0, 1, 1, 0, 0, 1,\n",
              "       1, 1, 1, 1, 1, 0, 1, 1, 1, 1, 1, 1, 0, 1, 1, 1, 1, 0, 1, 1, 1, 0,\n",
              "       1, 0, 1, 1, 0, 0, 1, 1, 1, 0, 0, 1, 0, 1, 1, 1, 1, 1, 0, 1, 1, 1,\n",
              "       1, 1, 1, 1, 0, 1, 1, 1, 1, 1, 1, 1, 1, 0, 1, 0, 1, 0, 1, 1, 0, 1,\n",
              "       1, 0, 1, 1, 1, 1, 1, 1, 0, 1, 0, 1, 0, 1, 1, 0, 0, 1, 1, 1, 1, 1,\n",
              "       1, 1, 1, 1, 1, 1, 1, 0, 1, 1, 1, 0, 1, 1, 1, 0, 1, 1, 1, 1, 0, 1,\n",
              "       1, 1, 1, 0, 1, 1, 1, 1, 1, 1, 1, 1, 1, 0, 0, 0, 1, 1, 1, 1, 1, 0,\n",
              "       1, 1, 1, 1, 1, 1, 1, 1, 1, 0, 0, 0, 0, 0, 1, 1, 1, 1, 1, 1, 1, 1,\n",
              "       1, 1, 0, 0, 0, 1, 0, 1, 1, 1, 1, 1, 1, 1, 1, 0, 1, 1, 1, 0, 0, 1,\n",
              "       1, 1, 1, 0, 1, 0, 1, 1, 1, 0, 0, 1, 1, 0, 1, 1, 1, 0, 1, 1, 0, 1,\n",
              "       0, 1, 1, 1, 0, 0, 1, 0, 1, 1, 0, 0, 0, 0, 0, 1, 0, 1, 1, 1, 1, 1,\n",
              "       1, 1, 1, 1, 1, 1, 1, 1, 0, 1, 1, 1, 0, 0, 1, 1, 1, 1, 1, 1, 0, 1,\n",
              "       1, 1, 0, 1, 1, 1, 1, 1, 1, 1, 1, 0, 1, 1, 1, 1, 0, 0, 0, 1, 1, 1,\n",
              "       0, 0, 1, 0, 0, 1, 1, 1, 1, 1, 1, 0, 1, 1, 1, 1, 1, 1, 1, 1, 1, 1,\n",
              "       1, 1, 1, 1, 0, 1, 1, 0, 1, 1, 0, 1])"
            ]
          },
          "metadata": {},
          "execution_count": 14
        }
      ],
      "source": [
        "# get labels from logits from predictions.predictions\n",
        "import numpy as np\n",
        "\n",
        "preds = np.argmax(predictions.predictions, axis=-1) #axis -1 means the last axis, so we take max for each of the rows\n",
        "preds"
      ]
    },
    {
      "cell_type": "code",
      "execution_count": 16,
      "metadata": {
        "id": "hG4OEn1vzu97",
        "outputId": "8d19c0f3-3716-4dea-f4c4-13ded56ac010",
        "colab": {
          "base_uri": "https://localhost:8080/",
          "height": 66,
          "referenced_widgets": [
            "5a42c8c741bb4407a51cc68cbfee0dbd",
            "035934b901de4c2a937a99de8afa83da",
            "02924f61cc2d49368cb4bf28fa55cfdf",
            "71ee933213be422bbc42ff0d2b48bb64",
            "f64397a5e21a4cb3b6c707689a02c939",
            "23d86d9a359b423a984f7b6f97084767",
            "6bf65e598e65434a824f2eaaa25e9a2d",
            "5f205d021cdd48aeaf576a94cabeab0a",
            "b063642b3ac54d2db0c97e3739411185",
            "f85b372c968a449eac6f0223daffe27e",
            "1a4b31608a534d55854dac25bcac171c"
          ]
        }
      },
      "outputs": [
        {
          "output_type": "display_data",
          "data": {
            "text/plain": [
              "Downloading builder script:   0%|          | 0.00/5.75k [00:00<?, ?B/s]"
            ],
            "application/vnd.jupyter.widget-view+json": {
              "version_major": 2,
              "version_minor": 0,
              "model_id": "5a42c8c741bb4407a51cc68cbfee0dbd"
            }
          },
          "metadata": {}
        },
        {
          "output_type": "execute_result",
          "data": {
            "text/plain": [
              "{'accuracy': 0.8578431372549019, 'f1': 0.9003436426116839}"
            ]
          },
          "metadata": {},
          "execution_count": 16
        }
      ],
      "source": [
        "import evaluate\n",
        "\n",
        "metric = evaluate.load(\"glue\", \"mrpc\")\n",
        "metric.compute(predictions=preds, references=predictions.label_ids)"
      ]
    },
    {
      "cell_type": "code",
      "execution_count": 17,
      "metadata": {
        "id": "Fw2rPyP9zu98"
      },
      "outputs": [],
      "source": [
        "# put together we get\n",
        "def compute_metrics(eval_preds):\n",
        "    metric = evaluate.load(\"glue\", \"mrpc\")\n",
        "    logits, labels = eval_preds\n",
        "    predictions = np.argmax(logits, axis=-1)\n",
        "    return metric.compute(predictions=predictions, references=labels)"
      ]
    },
    {
      "cell_type": "code",
      "execution_count": 18,
      "metadata": {
        "id": "Xj-DFMW9zu98",
        "outputId": "c5e4063b-aa42-487b-aa77-d7e7cc84627d",
        "colab": {
          "base_uri": "https://localhost:8080/"
        }
      },
      "outputs": [
        {
          "output_type": "stream",
          "name": "stderr",
          "text": [
            "Some weights of BertForSequenceClassification were not initialized from the model checkpoint at bert-base-uncased and are newly initialized: ['classifier.weight', 'classifier.bias']\n",
            "You should probably TRAIN this model on a down-stream task to be able to use it for predictions and inference.\n"
          ]
        }
      ],
      "source": [
        "# evaluate at the end of each epoch while training\n",
        "# earlier training loss was reported after every 500 'steps' (?????????)\n",
        "training_args = TrainingArguments(\"test-trainer\", evaluation_strategy=\"epoch\")\n",
        "model = AutoModelForSequenceClassification.from_pretrained(checkpoint, num_labels=2)\n",
        "\n",
        "trainer = Trainer(\n",
        "    model,\n",
        "    training_args,\n",
        "    train_dataset=tokenized_datasets[\"train\"],\n",
        "    eval_dataset=tokenized_datasets[\"validation\"],\n",
        "    data_collator=data_collator,\n",
        "    tokenizer=tokenizer,\n",
        "    compute_metrics=compute_metrics, #new\n",
        ")"
      ]
    },
    {
      "cell_type": "code",
      "execution_count": 19,
      "metadata": {
        "id": "yUMcOXQBzu99",
        "outputId": "9b545a2b-7585-4cab-a2d6-eea3fe4ef8e3",
        "colab": {
          "base_uri": "https://localhost:8080/",
          "height": 366
        }
      },
      "outputs": [
        {
          "data": {
            "text/html": [
              "\n",
              "    <div>\n",
              "      \n",
              "      <progress value='487' max='1377' style='width:300px; height:20px; vertical-align: middle;'></progress>\n",
              "      [ 487/1377 53:28 < 1:38:07, 0.15 it/s, Epoch 1.06/3]\n",
              "    </div>\n",
              "    <table border=\"1\" class=\"dataframe\">\n",
              "  <thead>\n",
              " <tr style=\"text-align: left;\">\n",
              "      <th>Epoch</th>\n",
              "      <th>Training Loss</th>\n",
              "      <th>Validation Loss</th>\n",
              "      <th>Accuracy</th>\n",
              "      <th>F1</th>\n",
              "    </tr>\n",
              "  </thead>\n",
              "  <tbody>\n",
              "    <tr>\n",
              "      <td>1</td>\n",
              "      <td>No log</td>\n",
              "      <td>0.352489</td>\n",
              "      <td>0.852941</td>\n",
              "      <td>0.893238</td>\n",
              "    </tr>\n",
              "  </tbody>\n",
              "</table><p>"
            ],
            "text/plain": [
              "<IPython.core.display.HTML object>"
            ]
          },
          "metadata": {},
          "output_type": "display_data"
        },
        {
          "output_type": "display_data",
          "data": {
            "text/plain": [
              "<IPython.core.display.HTML object>"
            ],
            "text/html": [
              "\n",
              "    <div>\n",
              "      \n",
              "      <progress value='1377' max='1377' style='width:300px; height:20px; vertical-align: middle;'></progress>\n",
              "      [1377/1377 2:29:27, Epoch 3/3]\n",
              "    </div>\n",
              "    <table border=\"1\" class=\"dataframe\">\n",
              "  <thead>\n",
              " <tr style=\"text-align: left;\">\n",
              "      <th>Epoch</th>\n",
              "      <th>Training Loss</th>\n",
              "      <th>Validation Loss</th>\n",
              "      <th>Accuracy</th>\n",
              "      <th>F1</th>\n",
              "    </tr>\n",
              "  </thead>\n",
              "  <tbody>\n",
              "    <tr>\n",
              "      <td>1</td>\n",
              "      <td>No log</td>\n",
              "      <td>0.352489</td>\n",
              "      <td>0.852941</td>\n",
              "      <td>0.893238</td>\n",
              "    </tr>\n",
              "    <tr>\n",
              "      <td>2</td>\n",
              "      <td>0.507700</td>\n",
              "      <td>0.504348</td>\n",
              "      <td>0.850490</td>\n",
              "      <td>0.897822</td>\n",
              "    </tr>\n",
              "    <tr>\n",
              "      <td>3</td>\n",
              "      <td>0.291200</td>\n",
              "      <td>0.675056</td>\n",
              "      <td>0.860294</td>\n",
              "      <td>0.901554</td>\n",
              "    </tr>\n",
              "  </tbody>\n",
              "</table><p>"
            ]
          },
          "metadata": {}
        },
        {
          "output_type": "stream",
          "name": "stderr",
          "text": [
            "Checkpoint destination directory test-trainer/checkpoint-500 already exists and is non-empty.Saving will proceed but saved results may be invalid.\n",
            "Checkpoint destination directory test-trainer/checkpoint-1000 already exists and is non-empty.Saving will proceed but saved results may be invalid.\n"
          ]
        },
        {
          "output_type": "execute_result",
          "data": {
            "text/plain": [
              "TrainOutput(global_step=1377, training_loss=0.3258293196180201, metrics={'train_runtime': 8977.7044, 'train_samples_per_second': 1.226, 'train_steps_per_second': 0.153, 'total_flos': 406446969432720.0, 'train_loss': 0.3258293196180201, 'epoch': 3.0})"
            ]
          },
          "metadata": {},
          "execution_count": 19
        }
      ],
      "source": [
        "trainer.train() # 3 epochs by default"
      ]
    },
    {
      "cell_type": "code",
      "source": [],
      "metadata": {
        "id": "pTPiURRKrMay"
      },
      "execution_count": null,
      "outputs": []
    }
  ],
  "metadata": {
    "colab": {
      "name": "Fine-tuning a model with the Trainer API or Keras",
      "provenance": []
    },
    "language_info": {
      "name": "python"
    },
    "kernelspec": {
      "name": "python3",
      "display_name": "Python 3"
    },
    "widgets": {
      "application/vnd.jupyter.widget-state+json": {
        "4b57b6552bf142529ea705c5424c6576": {
          "model_module": "@jupyter-widgets/controls",
          "model_name": "HBoxModel",
          "model_module_version": "1.5.0",
          "state": {
            "_dom_classes": [],
            "_model_module": "@jupyter-widgets/controls",
            "_model_module_version": "1.5.0",
            "_model_name": "HBoxModel",
            "_view_count": null,
            "_view_module": "@jupyter-widgets/controls",
            "_view_module_version": "1.5.0",
            "_view_name": "HBoxView",
            "box_style": "",
            "children": [
              "IPY_MODEL_2ae116fdaf6f4708bd60d517aed7bd60",
              "IPY_MODEL_7a10cc0d28074176bb9343f8d7646a22",
              "IPY_MODEL_9ce820af55e4411ba760126e2bed4c63"
            ],
            "layout": "IPY_MODEL_172d673b65fb46b5b488385cacb5b703"
          }
        },
        "2ae116fdaf6f4708bd60d517aed7bd60": {
          "model_module": "@jupyter-widgets/controls",
          "model_name": "HTMLModel",
          "model_module_version": "1.5.0",
          "state": {
            "_dom_classes": [],
            "_model_module": "@jupyter-widgets/controls",
            "_model_module_version": "1.5.0",
            "_model_name": "HTMLModel",
            "_view_count": null,
            "_view_module": "@jupyter-widgets/controls",
            "_view_module_version": "1.5.0",
            "_view_name": "HTMLView",
            "description": "",
            "description_tooltip": null,
            "layout": "IPY_MODEL_dffc29e5ad204961a2b9df0c4fe3915d",
            "placeholder": "​",
            "style": "IPY_MODEL_7b535b48d3b04ec4bc166bc11a028374",
            "value": "Map: 100%"
          }
        },
        "7a10cc0d28074176bb9343f8d7646a22": {
          "model_module": "@jupyter-widgets/controls",
          "model_name": "FloatProgressModel",
          "model_module_version": "1.5.0",
          "state": {
            "_dom_classes": [],
            "_model_module": "@jupyter-widgets/controls",
            "_model_module_version": "1.5.0",
            "_model_name": "FloatProgressModel",
            "_view_count": null,
            "_view_module": "@jupyter-widgets/controls",
            "_view_module_version": "1.5.0",
            "_view_name": "ProgressView",
            "bar_style": "success",
            "description": "",
            "description_tooltip": null,
            "layout": "IPY_MODEL_d8e2c210aab846bca9a4484190ff3f7c",
            "max": 408,
            "min": 0,
            "orientation": "horizontal",
            "style": "IPY_MODEL_dd5e88a26fd7467cbeffb61e37c0b152",
            "value": 408
          }
        },
        "9ce820af55e4411ba760126e2bed4c63": {
          "model_module": "@jupyter-widgets/controls",
          "model_name": "HTMLModel",
          "model_module_version": "1.5.0",
          "state": {
            "_dom_classes": [],
            "_model_module": "@jupyter-widgets/controls",
            "_model_module_version": "1.5.0",
            "_model_name": "HTMLModel",
            "_view_count": null,
            "_view_module": "@jupyter-widgets/controls",
            "_view_module_version": "1.5.0",
            "_view_name": "HTMLView",
            "description": "",
            "description_tooltip": null,
            "layout": "IPY_MODEL_d6211d4029324034b0aa8a358fbeedac",
            "placeholder": "​",
            "style": "IPY_MODEL_9b828e6760ed41ad98209af4e9e6eba3",
            "value": " 408/408 [00:00&lt;00:00, 1169.30 examples/s]"
          }
        },
        "172d673b65fb46b5b488385cacb5b703": {
          "model_module": "@jupyter-widgets/base",
          "model_name": "LayoutModel",
          "model_module_version": "1.2.0",
          "state": {
            "_model_module": "@jupyter-widgets/base",
            "_model_module_version": "1.2.0",
            "_model_name": "LayoutModel",
            "_view_count": null,
            "_view_module": "@jupyter-widgets/base",
            "_view_module_version": "1.2.0",
            "_view_name": "LayoutView",
            "align_content": null,
            "align_items": null,
            "align_self": null,
            "border": null,
            "bottom": null,
            "display": null,
            "flex": null,
            "flex_flow": null,
            "grid_area": null,
            "grid_auto_columns": null,
            "grid_auto_flow": null,
            "grid_auto_rows": null,
            "grid_column": null,
            "grid_gap": null,
            "grid_row": null,
            "grid_template_areas": null,
            "grid_template_columns": null,
            "grid_template_rows": null,
            "height": null,
            "justify_content": null,
            "justify_items": null,
            "left": null,
            "margin": null,
            "max_height": null,
            "max_width": null,
            "min_height": null,
            "min_width": null,
            "object_fit": null,
            "object_position": null,
            "order": null,
            "overflow": null,
            "overflow_x": null,
            "overflow_y": null,
            "padding": null,
            "right": null,
            "top": null,
            "visibility": null,
            "width": null
          }
        },
        "dffc29e5ad204961a2b9df0c4fe3915d": {
          "model_module": "@jupyter-widgets/base",
          "model_name": "LayoutModel",
          "model_module_version": "1.2.0",
          "state": {
            "_model_module": "@jupyter-widgets/base",
            "_model_module_version": "1.2.0",
            "_model_name": "LayoutModel",
            "_view_count": null,
            "_view_module": "@jupyter-widgets/base",
            "_view_module_version": "1.2.0",
            "_view_name": "LayoutView",
            "align_content": null,
            "align_items": null,
            "align_self": null,
            "border": null,
            "bottom": null,
            "display": null,
            "flex": null,
            "flex_flow": null,
            "grid_area": null,
            "grid_auto_columns": null,
            "grid_auto_flow": null,
            "grid_auto_rows": null,
            "grid_column": null,
            "grid_gap": null,
            "grid_row": null,
            "grid_template_areas": null,
            "grid_template_columns": null,
            "grid_template_rows": null,
            "height": null,
            "justify_content": null,
            "justify_items": null,
            "left": null,
            "margin": null,
            "max_height": null,
            "max_width": null,
            "min_height": null,
            "min_width": null,
            "object_fit": null,
            "object_position": null,
            "order": null,
            "overflow": null,
            "overflow_x": null,
            "overflow_y": null,
            "padding": null,
            "right": null,
            "top": null,
            "visibility": null,
            "width": null
          }
        },
        "7b535b48d3b04ec4bc166bc11a028374": {
          "model_module": "@jupyter-widgets/controls",
          "model_name": "DescriptionStyleModel",
          "model_module_version": "1.5.0",
          "state": {
            "_model_module": "@jupyter-widgets/controls",
            "_model_module_version": "1.5.0",
            "_model_name": "DescriptionStyleModel",
            "_view_count": null,
            "_view_module": "@jupyter-widgets/base",
            "_view_module_version": "1.2.0",
            "_view_name": "StyleView",
            "description_width": ""
          }
        },
        "d8e2c210aab846bca9a4484190ff3f7c": {
          "model_module": "@jupyter-widgets/base",
          "model_name": "LayoutModel",
          "model_module_version": "1.2.0",
          "state": {
            "_model_module": "@jupyter-widgets/base",
            "_model_module_version": "1.2.0",
            "_model_name": "LayoutModel",
            "_view_count": null,
            "_view_module": "@jupyter-widgets/base",
            "_view_module_version": "1.2.0",
            "_view_name": "LayoutView",
            "align_content": null,
            "align_items": null,
            "align_self": null,
            "border": null,
            "bottom": null,
            "display": null,
            "flex": null,
            "flex_flow": null,
            "grid_area": null,
            "grid_auto_columns": null,
            "grid_auto_flow": null,
            "grid_auto_rows": null,
            "grid_column": null,
            "grid_gap": null,
            "grid_row": null,
            "grid_template_areas": null,
            "grid_template_columns": null,
            "grid_template_rows": null,
            "height": null,
            "justify_content": null,
            "justify_items": null,
            "left": null,
            "margin": null,
            "max_height": null,
            "max_width": null,
            "min_height": null,
            "min_width": null,
            "object_fit": null,
            "object_position": null,
            "order": null,
            "overflow": null,
            "overflow_x": null,
            "overflow_y": null,
            "padding": null,
            "right": null,
            "top": null,
            "visibility": null,
            "width": null
          }
        },
        "dd5e88a26fd7467cbeffb61e37c0b152": {
          "model_module": "@jupyter-widgets/controls",
          "model_name": "ProgressStyleModel",
          "model_module_version": "1.5.0",
          "state": {
            "_model_module": "@jupyter-widgets/controls",
            "_model_module_version": "1.5.0",
            "_model_name": "ProgressStyleModel",
            "_view_count": null,
            "_view_module": "@jupyter-widgets/base",
            "_view_module_version": "1.2.0",
            "_view_name": "StyleView",
            "bar_color": null,
            "description_width": ""
          }
        },
        "d6211d4029324034b0aa8a358fbeedac": {
          "model_module": "@jupyter-widgets/base",
          "model_name": "LayoutModel",
          "model_module_version": "1.2.0",
          "state": {
            "_model_module": "@jupyter-widgets/base",
            "_model_module_version": "1.2.0",
            "_model_name": "LayoutModel",
            "_view_count": null,
            "_view_module": "@jupyter-widgets/base",
            "_view_module_version": "1.2.0",
            "_view_name": "LayoutView",
            "align_content": null,
            "align_items": null,
            "align_self": null,
            "border": null,
            "bottom": null,
            "display": null,
            "flex": null,
            "flex_flow": null,
            "grid_area": null,
            "grid_auto_columns": null,
            "grid_auto_flow": null,
            "grid_auto_rows": null,
            "grid_column": null,
            "grid_gap": null,
            "grid_row": null,
            "grid_template_areas": null,
            "grid_template_columns": null,
            "grid_template_rows": null,
            "height": null,
            "justify_content": null,
            "justify_items": null,
            "left": null,
            "margin": null,
            "max_height": null,
            "max_width": null,
            "min_height": null,
            "min_width": null,
            "object_fit": null,
            "object_position": null,
            "order": null,
            "overflow": null,
            "overflow_x": null,
            "overflow_y": null,
            "padding": null,
            "right": null,
            "top": null,
            "visibility": null,
            "width": null
          }
        },
        "9b828e6760ed41ad98209af4e9e6eba3": {
          "model_module": "@jupyter-widgets/controls",
          "model_name": "DescriptionStyleModel",
          "model_module_version": "1.5.0",
          "state": {
            "_model_module": "@jupyter-widgets/controls",
            "_model_module_version": "1.5.0",
            "_model_name": "DescriptionStyleModel",
            "_view_count": null,
            "_view_module": "@jupyter-widgets/base",
            "_view_module_version": "1.2.0",
            "_view_name": "StyleView",
            "description_width": ""
          }
        },
        "e06f737944f144d4b7ded6440cf3b585": {
          "model_module": "@jupyter-widgets/controls",
          "model_name": "HBoxModel",
          "model_module_version": "1.5.0",
          "state": {
            "_dom_classes": [],
            "_model_module": "@jupyter-widgets/controls",
            "_model_module_version": "1.5.0",
            "_model_name": "HBoxModel",
            "_view_count": null,
            "_view_module": "@jupyter-widgets/controls",
            "_view_module_version": "1.5.0",
            "_view_name": "HBoxView",
            "box_style": "",
            "children": [
              "IPY_MODEL_eced186dc9f64169b59ea390ac3ec1d9",
              "IPY_MODEL_02d075c032dd45daab26e70195afb74f",
              "IPY_MODEL_994adc56143944cfb80bc2b082195048"
            ],
            "layout": "IPY_MODEL_d5b1ccdf8f5c486c90f57b4aef206766"
          }
        },
        "eced186dc9f64169b59ea390ac3ec1d9": {
          "model_module": "@jupyter-widgets/controls",
          "model_name": "HTMLModel",
          "model_module_version": "1.5.0",
          "state": {
            "_dom_classes": [],
            "_model_module": "@jupyter-widgets/controls",
            "_model_module_version": "1.5.0",
            "_model_name": "HTMLModel",
            "_view_count": null,
            "_view_module": "@jupyter-widgets/controls",
            "_view_module_version": "1.5.0",
            "_view_name": "HTMLView",
            "description": "",
            "description_tooltip": null,
            "layout": "IPY_MODEL_11e9d9ed5e7f40a8933fe643e7925ea0",
            "placeholder": "​",
            "style": "IPY_MODEL_c537d1b6ad7342d39c00f1e52f289fcd",
            "value": "model.safetensors: 100%"
          }
        },
        "02d075c032dd45daab26e70195afb74f": {
          "model_module": "@jupyter-widgets/controls",
          "model_name": "FloatProgressModel",
          "model_module_version": "1.5.0",
          "state": {
            "_dom_classes": [],
            "_model_module": "@jupyter-widgets/controls",
            "_model_module_version": "1.5.0",
            "_model_name": "FloatProgressModel",
            "_view_count": null,
            "_view_module": "@jupyter-widgets/controls",
            "_view_module_version": "1.5.0",
            "_view_name": "ProgressView",
            "bar_style": "success",
            "description": "",
            "description_tooltip": null,
            "layout": "IPY_MODEL_1c7e9691002944dcb2d08c6595a888b9",
            "max": 440449768,
            "min": 0,
            "orientation": "horizontal",
            "style": "IPY_MODEL_5b6e9977ff99439eb4d1f0d4d41a311c",
            "value": 440449768
          }
        },
        "994adc56143944cfb80bc2b082195048": {
          "model_module": "@jupyter-widgets/controls",
          "model_name": "HTMLModel",
          "model_module_version": "1.5.0",
          "state": {
            "_dom_classes": [],
            "_model_module": "@jupyter-widgets/controls",
            "_model_module_version": "1.5.0",
            "_model_name": "HTMLModel",
            "_view_count": null,
            "_view_module": "@jupyter-widgets/controls",
            "_view_module_version": "1.5.0",
            "_view_name": "HTMLView",
            "description": "",
            "description_tooltip": null,
            "layout": "IPY_MODEL_ca22044b727e4702b7a4761cc4f76fc7",
            "placeholder": "​",
            "style": "IPY_MODEL_df400267c0674f2bbda1a8825e0d67d2",
            "value": " 440M/440M [00:05&lt;00:00, 86.7MB/s]"
          }
        },
        "d5b1ccdf8f5c486c90f57b4aef206766": {
          "model_module": "@jupyter-widgets/base",
          "model_name": "LayoutModel",
          "model_module_version": "1.2.0",
          "state": {
            "_model_module": "@jupyter-widgets/base",
            "_model_module_version": "1.2.0",
            "_model_name": "LayoutModel",
            "_view_count": null,
            "_view_module": "@jupyter-widgets/base",
            "_view_module_version": "1.2.0",
            "_view_name": "LayoutView",
            "align_content": null,
            "align_items": null,
            "align_self": null,
            "border": null,
            "bottom": null,
            "display": null,
            "flex": null,
            "flex_flow": null,
            "grid_area": null,
            "grid_auto_columns": null,
            "grid_auto_flow": null,
            "grid_auto_rows": null,
            "grid_column": null,
            "grid_gap": null,
            "grid_row": null,
            "grid_template_areas": null,
            "grid_template_columns": null,
            "grid_template_rows": null,
            "height": null,
            "justify_content": null,
            "justify_items": null,
            "left": null,
            "margin": null,
            "max_height": null,
            "max_width": null,
            "min_height": null,
            "min_width": null,
            "object_fit": null,
            "object_position": null,
            "order": null,
            "overflow": null,
            "overflow_x": null,
            "overflow_y": null,
            "padding": null,
            "right": null,
            "top": null,
            "visibility": null,
            "width": null
          }
        },
        "11e9d9ed5e7f40a8933fe643e7925ea0": {
          "model_module": "@jupyter-widgets/base",
          "model_name": "LayoutModel",
          "model_module_version": "1.2.0",
          "state": {
            "_model_module": "@jupyter-widgets/base",
            "_model_module_version": "1.2.0",
            "_model_name": "LayoutModel",
            "_view_count": null,
            "_view_module": "@jupyter-widgets/base",
            "_view_module_version": "1.2.0",
            "_view_name": "LayoutView",
            "align_content": null,
            "align_items": null,
            "align_self": null,
            "border": null,
            "bottom": null,
            "display": null,
            "flex": null,
            "flex_flow": null,
            "grid_area": null,
            "grid_auto_columns": null,
            "grid_auto_flow": null,
            "grid_auto_rows": null,
            "grid_column": null,
            "grid_gap": null,
            "grid_row": null,
            "grid_template_areas": null,
            "grid_template_columns": null,
            "grid_template_rows": null,
            "height": null,
            "justify_content": null,
            "justify_items": null,
            "left": null,
            "margin": null,
            "max_height": null,
            "max_width": null,
            "min_height": null,
            "min_width": null,
            "object_fit": null,
            "object_position": null,
            "order": null,
            "overflow": null,
            "overflow_x": null,
            "overflow_y": null,
            "padding": null,
            "right": null,
            "top": null,
            "visibility": null,
            "width": null
          }
        },
        "c537d1b6ad7342d39c00f1e52f289fcd": {
          "model_module": "@jupyter-widgets/controls",
          "model_name": "DescriptionStyleModel",
          "model_module_version": "1.5.0",
          "state": {
            "_model_module": "@jupyter-widgets/controls",
            "_model_module_version": "1.5.0",
            "_model_name": "DescriptionStyleModel",
            "_view_count": null,
            "_view_module": "@jupyter-widgets/base",
            "_view_module_version": "1.2.0",
            "_view_name": "StyleView",
            "description_width": ""
          }
        },
        "1c7e9691002944dcb2d08c6595a888b9": {
          "model_module": "@jupyter-widgets/base",
          "model_name": "LayoutModel",
          "model_module_version": "1.2.0",
          "state": {
            "_model_module": "@jupyter-widgets/base",
            "_model_module_version": "1.2.0",
            "_model_name": "LayoutModel",
            "_view_count": null,
            "_view_module": "@jupyter-widgets/base",
            "_view_module_version": "1.2.0",
            "_view_name": "LayoutView",
            "align_content": null,
            "align_items": null,
            "align_self": null,
            "border": null,
            "bottom": null,
            "display": null,
            "flex": null,
            "flex_flow": null,
            "grid_area": null,
            "grid_auto_columns": null,
            "grid_auto_flow": null,
            "grid_auto_rows": null,
            "grid_column": null,
            "grid_gap": null,
            "grid_row": null,
            "grid_template_areas": null,
            "grid_template_columns": null,
            "grid_template_rows": null,
            "height": null,
            "justify_content": null,
            "justify_items": null,
            "left": null,
            "margin": null,
            "max_height": null,
            "max_width": null,
            "min_height": null,
            "min_width": null,
            "object_fit": null,
            "object_position": null,
            "order": null,
            "overflow": null,
            "overflow_x": null,
            "overflow_y": null,
            "padding": null,
            "right": null,
            "top": null,
            "visibility": null,
            "width": null
          }
        },
        "5b6e9977ff99439eb4d1f0d4d41a311c": {
          "model_module": "@jupyter-widgets/controls",
          "model_name": "ProgressStyleModel",
          "model_module_version": "1.5.0",
          "state": {
            "_model_module": "@jupyter-widgets/controls",
            "_model_module_version": "1.5.0",
            "_model_name": "ProgressStyleModel",
            "_view_count": null,
            "_view_module": "@jupyter-widgets/base",
            "_view_module_version": "1.2.0",
            "_view_name": "StyleView",
            "bar_color": null,
            "description_width": ""
          }
        },
        "ca22044b727e4702b7a4761cc4f76fc7": {
          "model_module": "@jupyter-widgets/base",
          "model_name": "LayoutModel",
          "model_module_version": "1.2.0",
          "state": {
            "_model_module": "@jupyter-widgets/base",
            "_model_module_version": "1.2.0",
            "_model_name": "LayoutModel",
            "_view_count": null,
            "_view_module": "@jupyter-widgets/base",
            "_view_module_version": "1.2.0",
            "_view_name": "LayoutView",
            "align_content": null,
            "align_items": null,
            "align_self": null,
            "border": null,
            "bottom": null,
            "display": null,
            "flex": null,
            "flex_flow": null,
            "grid_area": null,
            "grid_auto_columns": null,
            "grid_auto_flow": null,
            "grid_auto_rows": null,
            "grid_column": null,
            "grid_gap": null,
            "grid_row": null,
            "grid_template_areas": null,
            "grid_template_columns": null,
            "grid_template_rows": null,
            "height": null,
            "justify_content": null,
            "justify_items": null,
            "left": null,
            "margin": null,
            "max_height": null,
            "max_width": null,
            "min_height": null,
            "min_width": null,
            "object_fit": null,
            "object_position": null,
            "order": null,
            "overflow": null,
            "overflow_x": null,
            "overflow_y": null,
            "padding": null,
            "right": null,
            "top": null,
            "visibility": null,
            "width": null
          }
        },
        "df400267c0674f2bbda1a8825e0d67d2": {
          "model_module": "@jupyter-widgets/controls",
          "model_name": "DescriptionStyleModel",
          "model_module_version": "1.5.0",
          "state": {
            "_model_module": "@jupyter-widgets/controls",
            "_model_module_version": "1.5.0",
            "_model_name": "DescriptionStyleModel",
            "_view_count": null,
            "_view_module": "@jupyter-widgets/base",
            "_view_module_version": "1.2.0",
            "_view_name": "StyleView",
            "description_width": ""
          }
        },
        "5a42c8c741bb4407a51cc68cbfee0dbd": {
          "model_module": "@jupyter-widgets/controls",
          "model_name": "HBoxModel",
          "model_module_version": "1.5.0",
          "state": {
            "_dom_classes": [],
            "_model_module": "@jupyter-widgets/controls",
            "_model_module_version": "1.5.0",
            "_model_name": "HBoxModel",
            "_view_count": null,
            "_view_module": "@jupyter-widgets/controls",
            "_view_module_version": "1.5.0",
            "_view_name": "HBoxView",
            "box_style": "",
            "children": [
              "IPY_MODEL_035934b901de4c2a937a99de8afa83da",
              "IPY_MODEL_02924f61cc2d49368cb4bf28fa55cfdf",
              "IPY_MODEL_71ee933213be422bbc42ff0d2b48bb64"
            ],
            "layout": "IPY_MODEL_f64397a5e21a4cb3b6c707689a02c939"
          }
        },
        "035934b901de4c2a937a99de8afa83da": {
          "model_module": "@jupyter-widgets/controls",
          "model_name": "HTMLModel",
          "model_module_version": "1.5.0",
          "state": {
            "_dom_classes": [],
            "_model_module": "@jupyter-widgets/controls",
            "_model_module_version": "1.5.0",
            "_model_name": "HTMLModel",
            "_view_count": null,
            "_view_module": "@jupyter-widgets/controls",
            "_view_module_version": "1.5.0",
            "_view_name": "HTMLView",
            "description": "",
            "description_tooltip": null,
            "layout": "IPY_MODEL_23d86d9a359b423a984f7b6f97084767",
            "placeholder": "​",
            "style": "IPY_MODEL_6bf65e598e65434a824f2eaaa25e9a2d",
            "value": "Downloading builder script: 100%"
          }
        },
        "02924f61cc2d49368cb4bf28fa55cfdf": {
          "model_module": "@jupyter-widgets/controls",
          "model_name": "FloatProgressModel",
          "model_module_version": "1.5.0",
          "state": {
            "_dom_classes": [],
            "_model_module": "@jupyter-widgets/controls",
            "_model_module_version": "1.5.0",
            "_model_name": "FloatProgressModel",
            "_view_count": null,
            "_view_module": "@jupyter-widgets/controls",
            "_view_module_version": "1.5.0",
            "_view_name": "ProgressView",
            "bar_style": "success",
            "description": "",
            "description_tooltip": null,
            "layout": "IPY_MODEL_5f205d021cdd48aeaf576a94cabeab0a",
            "max": 5749,
            "min": 0,
            "orientation": "horizontal",
            "style": "IPY_MODEL_b063642b3ac54d2db0c97e3739411185",
            "value": 5749
          }
        },
        "71ee933213be422bbc42ff0d2b48bb64": {
          "model_module": "@jupyter-widgets/controls",
          "model_name": "HTMLModel",
          "model_module_version": "1.5.0",
          "state": {
            "_dom_classes": [],
            "_model_module": "@jupyter-widgets/controls",
            "_model_module_version": "1.5.0",
            "_model_name": "HTMLModel",
            "_view_count": null,
            "_view_module": "@jupyter-widgets/controls",
            "_view_module_version": "1.5.0",
            "_view_name": "HTMLView",
            "description": "",
            "description_tooltip": null,
            "layout": "IPY_MODEL_f85b372c968a449eac6f0223daffe27e",
            "placeholder": "​",
            "style": "IPY_MODEL_1a4b31608a534d55854dac25bcac171c",
            "value": " 5.75k/5.75k [00:00&lt;00:00, 161kB/s]"
          }
        },
        "f64397a5e21a4cb3b6c707689a02c939": {
          "model_module": "@jupyter-widgets/base",
          "model_name": "LayoutModel",
          "model_module_version": "1.2.0",
          "state": {
            "_model_module": "@jupyter-widgets/base",
            "_model_module_version": "1.2.0",
            "_model_name": "LayoutModel",
            "_view_count": null,
            "_view_module": "@jupyter-widgets/base",
            "_view_module_version": "1.2.0",
            "_view_name": "LayoutView",
            "align_content": null,
            "align_items": null,
            "align_self": null,
            "border": null,
            "bottom": null,
            "display": null,
            "flex": null,
            "flex_flow": null,
            "grid_area": null,
            "grid_auto_columns": null,
            "grid_auto_flow": null,
            "grid_auto_rows": null,
            "grid_column": null,
            "grid_gap": null,
            "grid_row": null,
            "grid_template_areas": null,
            "grid_template_columns": null,
            "grid_template_rows": null,
            "height": null,
            "justify_content": null,
            "justify_items": null,
            "left": null,
            "margin": null,
            "max_height": null,
            "max_width": null,
            "min_height": null,
            "min_width": null,
            "object_fit": null,
            "object_position": null,
            "order": null,
            "overflow": null,
            "overflow_x": null,
            "overflow_y": null,
            "padding": null,
            "right": null,
            "top": null,
            "visibility": null,
            "width": null
          }
        },
        "23d86d9a359b423a984f7b6f97084767": {
          "model_module": "@jupyter-widgets/base",
          "model_name": "LayoutModel",
          "model_module_version": "1.2.0",
          "state": {
            "_model_module": "@jupyter-widgets/base",
            "_model_module_version": "1.2.0",
            "_model_name": "LayoutModel",
            "_view_count": null,
            "_view_module": "@jupyter-widgets/base",
            "_view_module_version": "1.2.0",
            "_view_name": "LayoutView",
            "align_content": null,
            "align_items": null,
            "align_self": null,
            "border": null,
            "bottom": null,
            "display": null,
            "flex": null,
            "flex_flow": null,
            "grid_area": null,
            "grid_auto_columns": null,
            "grid_auto_flow": null,
            "grid_auto_rows": null,
            "grid_column": null,
            "grid_gap": null,
            "grid_row": null,
            "grid_template_areas": null,
            "grid_template_columns": null,
            "grid_template_rows": null,
            "height": null,
            "justify_content": null,
            "justify_items": null,
            "left": null,
            "margin": null,
            "max_height": null,
            "max_width": null,
            "min_height": null,
            "min_width": null,
            "object_fit": null,
            "object_position": null,
            "order": null,
            "overflow": null,
            "overflow_x": null,
            "overflow_y": null,
            "padding": null,
            "right": null,
            "top": null,
            "visibility": null,
            "width": null
          }
        },
        "6bf65e598e65434a824f2eaaa25e9a2d": {
          "model_module": "@jupyter-widgets/controls",
          "model_name": "DescriptionStyleModel",
          "model_module_version": "1.5.0",
          "state": {
            "_model_module": "@jupyter-widgets/controls",
            "_model_module_version": "1.5.0",
            "_model_name": "DescriptionStyleModel",
            "_view_count": null,
            "_view_module": "@jupyter-widgets/base",
            "_view_module_version": "1.2.0",
            "_view_name": "StyleView",
            "description_width": ""
          }
        },
        "5f205d021cdd48aeaf576a94cabeab0a": {
          "model_module": "@jupyter-widgets/base",
          "model_name": "LayoutModel",
          "model_module_version": "1.2.0",
          "state": {
            "_model_module": "@jupyter-widgets/base",
            "_model_module_version": "1.2.0",
            "_model_name": "LayoutModel",
            "_view_count": null,
            "_view_module": "@jupyter-widgets/base",
            "_view_module_version": "1.2.0",
            "_view_name": "LayoutView",
            "align_content": null,
            "align_items": null,
            "align_self": null,
            "border": null,
            "bottom": null,
            "display": null,
            "flex": null,
            "flex_flow": null,
            "grid_area": null,
            "grid_auto_columns": null,
            "grid_auto_flow": null,
            "grid_auto_rows": null,
            "grid_column": null,
            "grid_gap": null,
            "grid_row": null,
            "grid_template_areas": null,
            "grid_template_columns": null,
            "grid_template_rows": null,
            "height": null,
            "justify_content": null,
            "justify_items": null,
            "left": null,
            "margin": null,
            "max_height": null,
            "max_width": null,
            "min_height": null,
            "min_width": null,
            "object_fit": null,
            "object_position": null,
            "order": null,
            "overflow": null,
            "overflow_x": null,
            "overflow_y": null,
            "padding": null,
            "right": null,
            "top": null,
            "visibility": null,
            "width": null
          }
        },
        "b063642b3ac54d2db0c97e3739411185": {
          "model_module": "@jupyter-widgets/controls",
          "model_name": "ProgressStyleModel",
          "model_module_version": "1.5.0",
          "state": {
            "_model_module": "@jupyter-widgets/controls",
            "_model_module_version": "1.5.0",
            "_model_name": "ProgressStyleModel",
            "_view_count": null,
            "_view_module": "@jupyter-widgets/base",
            "_view_module_version": "1.2.0",
            "_view_name": "StyleView",
            "bar_color": null,
            "description_width": ""
          }
        },
        "f85b372c968a449eac6f0223daffe27e": {
          "model_module": "@jupyter-widgets/base",
          "model_name": "LayoutModel",
          "model_module_version": "1.2.0",
          "state": {
            "_model_module": "@jupyter-widgets/base",
            "_model_module_version": "1.2.0",
            "_model_name": "LayoutModel",
            "_view_count": null,
            "_view_module": "@jupyter-widgets/base",
            "_view_module_version": "1.2.0",
            "_view_name": "LayoutView",
            "align_content": null,
            "align_items": null,
            "align_self": null,
            "border": null,
            "bottom": null,
            "display": null,
            "flex": null,
            "flex_flow": null,
            "grid_area": null,
            "grid_auto_columns": null,
            "grid_auto_flow": null,
            "grid_auto_rows": null,
            "grid_column": null,
            "grid_gap": null,
            "grid_row": null,
            "grid_template_areas": null,
            "grid_template_columns": null,
            "grid_template_rows": null,
            "height": null,
            "justify_content": null,
            "justify_items": null,
            "left": null,
            "margin": null,
            "max_height": null,
            "max_width": null,
            "min_height": null,
            "min_width": null,
            "object_fit": null,
            "object_position": null,
            "order": null,
            "overflow": null,
            "overflow_x": null,
            "overflow_y": null,
            "padding": null,
            "right": null,
            "top": null,
            "visibility": null,
            "width": null
          }
        },
        "1a4b31608a534d55854dac25bcac171c": {
          "model_module": "@jupyter-widgets/controls",
          "model_name": "DescriptionStyleModel",
          "model_module_version": "1.5.0",
          "state": {
            "_model_module": "@jupyter-widgets/controls",
            "_model_module_version": "1.5.0",
            "_model_name": "DescriptionStyleModel",
            "_view_count": null,
            "_view_module": "@jupyter-widgets/base",
            "_view_module_version": "1.2.0",
            "_view_name": "StyleView",
            "description_width": ""
          }
        }
      }
    }
  },
  "nbformat": 4,
  "nbformat_minor": 0
}